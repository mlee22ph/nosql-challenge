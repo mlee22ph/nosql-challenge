{
 "cells": [
  {
   "cell_type": "markdown",
   "id": "9a57c4c6",
   "metadata": {},
   "source": [
    "# Eat Safe, Love"
   ]
  },
  {
   "cell_type": "markdown",
   "id": "064ef857",
   "metadata": {},
   "source": [
    "## Notebook Set Up"
   ]
  },
  {
   "cell_type": "code",
   "execution_count": 2,
   "id": "3ecdd008",
   "metadata": {},
   "outputs": [],
   "source": [
    "# Import dependencies\n",
    "from pymongo import MongoClient\n",
    "from pprint import pprint\n",
    "import pandas as pd"
   ]
  },
  {
   "cell_type": "code",
   "execution_count": 3,
   "id": "59390c4a",
   "metadata": {},
   "outputs": [],
   "source": [
    "# Create an instance of MongoClient\n",
    "mongo = MongoClient(port=27017)"
   ]
  },
  {
   "cell_type": "code",
   "execution_count": 4,
   "id": "71e373c1",
   "metadata": {},
   "outputs": [],
   "source": [
    "# assign the uk_food database to a variable name\n",
    "db = mongo['uk_food']"
   ]
  },
  {
   "cell_type": "code",
   "execution_count": 5,
   "id": "18ab463c",
   "metadata": {},
   "outputs": [
    {
     "name": "stdout",
     "output_type": "stream",
     "text": [
      "['establishments']\n"
     ]
    }
   ],
   "source": [
    "# review the collections in our database\n",
    "print(db.list_collection_names())"
   ]
  },
  {
   "cell_type": "code",
   "execution_count": 6,
   "id": "11c9f11b",
   "metadata": {},
   "outputs": [],
   "source": [
    "# assign the collection to a variable\n",
    "establishments = db['establishments']"
   ]
  },
  {
   "cell_type": "markdown",
   "id": "d5671434",
   "metadata": {},
   "source": [
    "## Part 3: Exploratory Analysis\n",
    "Unless otherwise stated, for each question: \n",
    "* Use `count_documents` to display the number of documents contained in the result.\n",
    "* Display the first document in the results using `pprint`.\n",
    "* Convert the result to a Pandas DataFrame, print the number of rows in the DataFrame, and display the first 10 rows."
   ]
  },
  {
   "cell_type": "markdown",
   "id": "314bd884",
   "metadata": {},
   "source": [
    "### 1. Which establishments have a hygiene score equal to 20?"
   ]
  },
  {
   "cell_type": "code",
   "execution_count": 7,
   "id": "c2da7648",
   "metadata": {},
   "outputs": [
    {
     "name": "stdout",
     "output_type": "stream",
     "text": [
      "41\n",
      "{'BusinessName': 'The Chase Rest Home',\n",
      " '_id': ObjectId('652955653aa8cbf72c74a09b')}\n"
     ]
    }
   ],
   "source": [
    "# Find the establishments with a hygiene score of 20\n",
    "query = {\"scores.Hygiene\": {'$eq': 20}}\n",
    "fields = {'BusinessName': 1}\n",
    "documents = establishments.find(query, fields)\n",
    "\n",
    "# Use count_documents to display the number of documents in the result\n",
    "count = establishments.count_documents(query)\n",
    "pprint(count)\n",
    "\n",
    "# Display the first document in the results using pprint\n",
    "pprint(documents[0])"
   ]
  },
  {
   "cell_type": "code",
   "execution_count": 8,
   "id": "a6e5cece",
   "metadata": {},
   "outputs": [
    {
     "name": "stdout",
     "output_type": "stream",
     "text": [
      "Number of rows in Dataframe:  41\n"
     ]
    },
    {
     "data": {
      "text/html": [
       "<div>\n",
       "<style scoped>\n",
       "    .dataframe tbody tr th:only-of-type {\n",
       "        vertical-align: middle;\n",
       "    }\n",
       "\n",
       "    .dataframe tbody tr th {\n",
       "        vertical-align: top;\n",
       "    }\n",
       "\n",
       "    .dataframe thead th {\n",
       "        text-align: right;\n",
       "    }\n",
       "</style>\n",
       "<table border=\"1\" class=\"dataframe\">\n",
       "  <thead>\n",
       "    <tr style=\"text-align: right;\">\n",
       "      <th></th>\n",
       "      <th>_id</th>\n",
       "      <th>BusinessName</th>\n",
       "    </tr>\n",
       "  </thead>\n",
       "  <tbody>\n",
       "    <tr>\n",
       "      <th>0</th>\n",
       "      <td>652955653aa8cbf72c74a09b</td>\n",
       "      <td>The Chase Rest Home</td>\n",
       "    </tr>\n",
       "    <tr>\n",
       "      <th>1</th>\n",
       "      <td>652955653aa8cbf72c74a41b</td>\n",
       "      <td>Brenalwood</td>\n",
       "    </tr>\n",
       "    <tr>\n",
       "      <th>2</th>\n",
       "      <td>652955653aa8cbf72c74a726</td>\n",
       "      <td>Melrose Hotel</td>\n",
       "    </tr>\n",
       "    <tr>\n",
       "      <th>3</th>\n",
       "      <td>652955653aa8cbf72c74a918</td>\n",
       "      <td>Seaford Pizza</td>\n",
       "    </tr>\n",
       "    <tr>\n",
       "      <th>4</th>\n",
       "      <td>652955653aa8cbf72c74a928</td>\n",
       "      <td>Golden Palace</td>\n",
       "    </tr>\n",
       "    <tr>\n",
       "      <th>5</th>\n",
       "      <td>652955653aa8cbf72c74b2c8</td>\n",
       "      <td>Ashby's Butchers</td>\n",
       "    </tr>\n",
       "    <tr>\n",
       "      <th>6</th>\n",
       "      <td>652955653aa8cbf72c74b4e3</td>\n",
       "      <td>South Sea Express Cuisine</td>\n",
       "    </tr>\n",
       "    <tr>\n",
       "      <th>7</th>\n",
       "      <td>652955663aa8cbf72c74ca0f</td>\n",
       "      <td>Golden Palace</td>\n",
       "    </tr>\n",
       "    <tr>\n",
       "      <th>8</th>\n",
       "      <td>652955663aa8cbf72c74ce53</td>\n",
       "      <td>The Tulip Tree</td>\n",
       "    </tr>\n",
       "    <tr>\n",
       "      <th>9</th>\n",
       "      <td>652955663aa8cbf72c74d664</td>\n",
       "      <td>F &amp; S</td>\n",
       "    </tr>\n",
       "  </tbody>\n",
       "</table>\n",
       "</div>"
      ],
      "text/plain": [
       "                        _id               BusinessName\n",
       "0  652955653aa8cbf72c74a09b        The Chase Rest Home\n",
       "1  652955653aa8cbf72c74a41b                 Brenalwood\n",
       "2  652955653aa8cbf72c74a726              Melrose Hotel\n",
       "3  652955653aa8cbf72c74a918              Seaford Pizza\n",
       "4  652955653aa8cbf72c74a928              Golden Palace\n",
       "5  652955653aa8cbf72c74b2c8           Ashby's Butchers\n",
       "6  652955653aa8cbf72c74b4e3  South Sea Express Cuisine\n",
       "7  652955663aa8cbf72c74ca0f              Golden Palace\n",
       "8  652955663aa8cbf72c74ce53             The Tulip Tree\n",
       "9  652955663aa8cbf72c74d664                      F & S"
      ]
     },
     "execution_count": 8,
     "metadata": {},
     "output_type": "execute_result"
    }
   ],
   "source": [
    "# Convert the result to a Pandas DataFrame\n",
    "result_df = pd.DataFrame(documents)\n",
    "\n",
    "# Display the number of rows in the DataFrame\n",
    "print(\"Number of rows in Dataframe: \",len( result_df))\n",
    "\n",
    "# Display the first 10 rows of the DataFrame\n",
    "result_df.head(10)"
   ]
  },
  {
   "cell_type": "markdown",
   "id": "30cacf7e-26f9-4bb8-b97a-a5faea59447f",
   "metadata": {},
   "source": [
    "### ANSWER : Establishments with Hygiene score equal to 20 are listed below"
   ]
  },
  {
   "cell_type": "code",
   "execution_count": 9,
   "id": "0984d2ec-3e07-43b6-9436-f8a0378ac1e3",
   "metadata": {},
   "outputs": [
    {
     "data": {
      "text/plain": [
       "0                                   The Chase Rest Home\n",
       "1                                            Brenalwood\n",
       "2                                         Melrose Hotel\n",
       "3                                         Seaford Pizza\n",
       "4                                         Golden Palace\n",
       "5                                      Ashby's Butchers\n",
       "6                             South Sea Express Cuisine\n",
       "7                                         Golden Palace\n",
       "8                                        The Tulip Tree\n",
       "9                                                 F & S\n",
       "10                                            Longhouse\n",
       "11    Westview Playgroup Based At Downsview Comm Pri...\n",
       "12                          Whatever The Weather Coffee\n",
       "13                          Kings Restaurant (Oriental)\n",
       "14                                              Xich Lo\n",
       "15        Asian Supermarket Ltd: T/A Best Food Wine Ltd\n",
       "16                                               Londis\n",
       "17                                           Costcutter\n",
       "18                                         La Simon Ltd\n",
       "19                                       Caribiscus Ltd\n",
       "20                                Kennedy Fried Chicken\n",
       "21                                            Gah Shing\n",
       "22                                       A1 News & Wine\n",
       "23                                        Cakes & Bakes\n",
       "24                          Sahajanand Catering Limited\n",
       "25                                           Sisko Cafe\n",
       "26                               Magazin Romanesc Diana\n",
       "27                                        Bali Maamalas\n",
       "28                                        Angels Bakery\n",
       "29                              Nikkis Place Restaurant\n",
       "30                                           Chicago 30\n",
       "31                                Samui Thai Restaurant\n",
       "32                              Pakhtoonkhwa Restaurant\n",
       "33                                     New Happy Garden\n",
       "34                                            Mummy Yum\n",
       "35                                            Gospodina\n",
       "36                                    Leo's Bar & Grill\n",
       "37                                           Royal Ribs\n",
       "38                        Great Hallingbury Manor Hotel\n",
       "39                                     The Dog And Duck\n",
       "40                                     Oriental Cottage\n",
       "Name: BusinessName, dtype: object"
      ]
     },
     "execution_count": 9,
     "metadata": {},
     "output_type": "execute_result"
    }
   ],
   "source": [
    "result_df['BusinessName']"
   ]
  },
  {
   "cell_type": "markdown",
   "id": "0ef4395a",
   "metadata": {},
   "source": [
    "### 2. Which establishments in London have a `RatingValue` greater than or equal to 4?"
   ]
  },
  {
   "cell_type": "code",
   "execution_count": 10,
   "id": "93c63829",
   "metadata": {},
   "outputs": [
    {
     "name": "stdout",
     "output_type": "stream",
     "text": [
      "37\n",
      "{'BusinessName': \"Charlie's\", '_id': ObjectId('652955653aa8cbf72c74bab8')}\n"
     ]
    }
   ],
   "source": [
    "# Find the establishments with London as the Local Authority and has a RatingValue greater than or equal to 4.\n",
    "#query = {'LocalAuthorityName': 'London', \"RatingValue\": {'$gte': 4}}\n",
    "query = {'LocalAuthorityName': {'$regex': \"London\"}}\n",
    "fields = {'BusinessName': 1}\n",
    "documents = establishments.find(query, fields)\n",
    "\n",
    "# Use count_documents to display the number of documents in the result\n",
    "count = establishments.count_documents(query)\n",
    "pprint(count)\n",
    "\n",
    "# Display the first document in the results using pprint\n",
    "pprint(documents[0])"
   ]
  },
  {
   "cell_type": "code",
   "execution_count": 11,
   "id": "7cd55eb1-f82a-4c22-a6a5-65a65e2f80e7",
   "metadata": {
    "tags": []
   },
   "outputs": [
    {
     "name": "stdout",
     "output_type": "stream",
     "text": [
      "Number of rows in Dataframe:  37\n"
     ]
    },
    {
     "data": {
      "text/html": [
       "<div>\n",
       "<style scoped>\n",
       "    .dataframe tbody tr th:only-of-type {\n",
       "        vertical-align: middle;\n",
       "    }\n",
       "\n",
       "    .dataframe tbody tr th {\n",
       "        vertical-align: top;\n",
       "    }\n",
       "\n",
       "    .dataframe thead th {\n",
       "        text-align: right;\n",
       "    }\n",
       "</style>\n",
       "<table border=\"1\" class=\"dataframe\">\n",
       "  <thead>\n",
       "    <tr style=\"text-align: right;\">\n",
       "      <th></th>\n",
       "      <th>_id</th>\n",
       "      <th>BusinessName</th>\n",
       "    </tr>\n",
       "  </thead>\n",
       "  <tbody>\n",
       "    <tr>\n",
       "      <th>0</th>\n",
       "      <td>652955653aa8cbf72c74bab8</td>\n",
       "      <td>Charlie's</td>\n",
       "    </tr>\n",
       "    <tr>\n",
       "      <th>1</th>\n",
       "      <td>652955653aa8cbf72c74bdde</td>\n",
       "      <td>Mv City Cruises Erasmus</td>\n",
       "    </tr>\n",
       "    <tr>\n",
       "      <th>2</th>\n",
       "      <td>652955663aa8cbf72c74c92a</td>\n",
       "      <td>Benfleet Motor Yacht Club</td>\n",
       "    </tr>\n",
       "    <tr>\n",
       "      <th>3</th>\n",
       "      <td>652955663aa8cbf72c74cf37</td>\n",
       "      <td>Gourmet Kitchen</td>\n",
       "    </tr>\n",
       "    <tr>\n",
       "      <th>4</th>\n",
       "      <td>652955663aa8cbf72c74d727</td>\n",
       "      <td>Coombs Catering t/a The Lock and Key</td>\n",
       "    </tr>\n",
       "    <tr>\n",
       "      <th>5</th>\n",
       "      <td>652955663aa8cbf72c74d729</td>\n",
       "      <td>Tilbury Seafarers Centre</td>\n",
       "    </tr>\n",
       "    <tr>\n",
       "      <th>6</th>\n",
       "      <td>652955663aa8cbf72c74de33</td>\n",
       "      <td>Mv Valulla</td>\n",
       "    </tr>\n",
       "    <tr>\n",
       "      <th>7</th>\n",
       "      <td>652955673aa8cbf72c74ff3f</td>\n",
       "      <td>Tereza Joanne</td>\n",
       "    </tr>\n",
       "    <tr>\n",
       "      <th>8</th>\n",
       "      <td>652955673aa8cbf72c74ff62</td>\n",
       "      <td>Froottree</td>\n",
       "    </tr>\n",
       "    <tr>\n",
       "      <th>9</th>\n",
       "      <td>652955673aa8cbf72c750308</td>\n",
       "      <td>Brick Lane Brews</td>\n",
       "    </tr>\n",
       "  </tbody>\n",
       "</table>\n",
       "</div>"
      ],
      "text/plain": [
       "                        _id                          BusinessName\n",
       "0  652955653aa8cbf72c74bab8                             Charlie's\n",
       "1  652955653aa8cbf72c74bdde               Mv City Cruises Erasmus\n",
       "2  652955663aa8cbf72c74c92a             Benfleet Motor Yacht Club\n",
       "3  652955663aa8cbf72c74cf37                       Gourmet Kitchen\n",
       "4  652955663aa8cbf72c74d727  Coombs Catering t/a The Lock and Key\n",
       "5  652955663aa8cbf72c74d729              Tilbury Seafarers Centre\n",
       "6  652955663aa8cbf72c74de33                            Mv Valulla\n",
       "7  652955673aa8cbf72c74ff3f                         Tereza Joanne\n",
       "8  652955673aa8cbf72c74ff62                             Froottree\n",
       "9  652955673aa8cbf72c750308                      Brick Lane Brews"
      ]
     },
     "execution_count": 11,
     "metadata": {},
     "output_type": "execute_result"
    }
   ],
   "source": [
    "# Convert the result to a Pandas DataFrame\n",
    "result_df = pd.DataFrame(documents)\n",
    "\n",
    "# Display the number of rows in the DataFrame\n",
    "print(\"Number of rows in Dataframe: \",len( result_df))\n",
    "\n",
    "# Display the first 10 rows of the DataFrame\n",
    "result_df.head(10)"
   ]
  },
  {
   "cell_type": "markdown",
   "id": "769cecfd-bdf0-48dc-8774-a4c01271f47a",
   "metadata": {},
   "source": [
    "### ANSWER : Establishments in London that have a RatingValue greater than or equal to 4 are listed below"
   ]
  },
  {
   "cell_type": "code",
   "execution_count": 12,
   "id": "d8f1120d-c2ba-4980-bd67-8f31d90a97fb",
   "metadata": {
    "tags": []
   },
   "outputs": [
    {
     "data": {
      "text/plain": [
       "0                                Charlie's\n",
       "1                  Mv City Cruises Erasmus\n",
       "2                Benfleet Motor Yacht Club\n",
       "3                          Gourmet Kitchen\n",
       "4     Coombs Catering t/a The Lock and Key\n",
       "5                 Tilbury Seafarers Centre\n",
       "6                               Mv Valulla\n",
       "7                            Tereza Joanne\n",
       "8                                Froottree\n",
       "9                         Brick Lane Brews\n",
       "10                           Pret A Manger\n",
       "11           The Nuance Group (UK) Limited\n",
       "12                                WH Smith\n",
       "13                               Cabin Bar\n",
       "14                        City Bar & Grill\n",
       "15                              Jet Centre\n",
       "16                              Caffè Nero\n",
       "17                  Mv Sunborn Yacht Hotel\n",
       "18                       Good Hotel London\n",
       "19                           La Nonna lina\n",
       "20               Wake Up Docklands Limited\n",
       "21                        MV Venus Clipper\n",
       "22                      MV Typhoon clipper\n",
       "23                         MV Moon clipper\n",
       "24                      MV Monsoon clipper\n",
       "25                      MV Jupiter clipper\n",
       "26                       MV Meteor clipper\n",
       "27                      MV Mercury clipper\n",
       "28                      MV Tornado clipper\n",
       "29                      MV Cyclone clipper\n",
       "30                       MV Galaxy clipper\n",
       "31                    MV Hurricane clipper\n",
       "32                      MV Neptune clipper\n",
       "33                          MV Sun clipper\n",
       "34                        Mv Storm Clipper\n",
       "35                       MV Aurora clipper\n",
       "36                         Canary Wharf 1V\n",
       "Name: BusinessName, dtype: object"
      ]
     },
     "execution_count": 12,
     "metadata": {},
     "output_type": "execute_result"
    }
   ],
   "source": [
    "result_df['BusinessName']"
   ]
  },
  {
   "cell_type": "markdown",
   "id": "4e570caf",
   "metadata": {},
   "source": [
    "### 3. What are the top 5 establishments with a `RatingValue` rating value of 5, sorted by lowest hygiene score, nearest to the new restaurant added, \"Penang Flavours\"?"
   ]
  },
  {
   "cell_type": "code",
   "execution_count": 13,
   "id": "5c896fec-d9c9-4f05-9e38-a64f2ff97439",
   "metadata": {
    "tags": []
   },
   "outputs": [
    {
     "name": "stdout",
     "output_type": "stream",
     "text": [
      "{'AddressLine1': 'Penang Flavours',\n",
      " 'AddressLine2': '146A Plumstead Rd',\n",
      " 'AddressLine3': 'London',\n",
      " 'AddressLine4': '',\n",
      " 'BusinessName': 'Penang Flavours',\n",
      " 'BusinessType': 'Restaurant/Cafe/Canteen',\n",
      " 'BusinessTypeID': 1,\n",
      " 'Distance': 4623.972328074718,\n",
      " 'LocalAuthorityCode': '511',\n",
      " 'LocalAuthorityEmailAddress': 'health@royalgreenwich.gov.uk',\n",
      " 'LocalAuthorityName': 'Greenwich',\n",
      " 'LocalAuthorityWebSite': 'http://www.royalgreenwich.gov.uk',\n",
      " 'NewRatingPending': True,\n",
      " 'Phone': '',\n",
      " 'PostCode': 'SE18 7DY',\n",
      " 'RatingValue': None,\n",
      " 'RightToReply': '',\n",
      " 'SchemeType': 'FHRS',\n",
      " '_id': ObjectId('652955bda434777a6ab21065'),\n",
      " 'geocode': {'latitude': 51.490142, 'longitude': 0.08384},\n",
      " 'scores': {'ConfidenceInManagement': '', 'Hygiene': '', 'Structural': ''}}\n"
     ]
    }
   ],
   "source": [
    "query = {\"BusinessName\":\"Penang Flavours\"}\n",
    "results = establishments.find(query)\n",
    "for result in results:\n",
    "    pprint(result)"
   ]
  },
  {
   "cell_type": "code",
   "execution_count": 24,
   "id": "7f599f3d",
   "metadata": {},
   "outputs": [
    {
     "name": "stdout",
     "output_type": "stream",
     "text": [
      "[{'BusinessName': 'Volunteer',\n",
      "  'RatingValue': 5,\n",
      "  '_id': ObjectId('652955673aa8cbf72c74f901'),\n",
      "  'scores': {'Hygiene': 0}},\n",
      " {'BusinessName': 'Plumstead Manor Nursery',\n",
      "  'RatingValue': 5,\n",
      "  '_id': ObjectId('652955673aa8cbf72c74f911'),\n",
      "  'scores': {'Hygiene': 0}},\n",
      " {'BusinessName': 'Atlantic Fish Bar',\n",
      "  'RatingValue': 5,\n",
      "  '_id': ObjectId('652955673aa8cbf72c74f913'),\n",
      "  'scores': {'Hygiene': 0}},\n",
      " {'BusinessName': 'Iceland',\n",
      "  'RatingValue': 5,\n",
      "  '_id': ObjectId('652955673aa8cbf72c74f8cf'),\n",
      "  'scores': {'Hygiene': 0}},\n",
      " {'BusinessName': 'Howe and Co Fish and Chips - Van 17',\n",
      "  'RatingValue': 5,\n",
      "  '_id': ObjectId('652955673aa8cbf72c74f8de'),\n",
      "  'scores': {'Hygiene': 0}}]\n"
     ]
    }
   ],
   "source": [
    "# Search within 0.01 degree on either side of the latitude and longitude.\n",
    "# Rating value must equal 5\n",
    "# Sort by hygiene score\n",
    "\n",
    "degree_search = 0.01\n",
    "latitudeUpper = 51.490142 + 0.01\n",
    "latitudeLower = 51.490142 - 0.01\n",
    "longitudeUpper = 0.08384 + 0.01\n",
    "longitudeLower = 0.08384 - 0.01\n",
    "\n",
    "query = {'RatingValue': {'$eq': 5},\n",
    "            'geocode.latitude': {'$gte': latitudeLower, '$lt': latitudeUpper},\n",
    "            'geocode.longitude': {'$gte': longitudeLower, '$lt': longitudeUpper}\n",
    "         }\n",
    "fields = {'BusinessName': 1, \"scores.Hygiene\": 1, 'RatingValue': 1}\n",
    "sort =  [(\"scores.Hygiene\", 1)]\n",
    "limit = 5\n",
    "\n",
    "results = list(establishments.find(query, fields).sort(sort).limit(limit))\n",
    "\n",
    "# Print the results\n",
    "pprint(results)\n",
    "#print(\"Number of rows in result: \", len(results))"
   ]
  },
  {
   "cell_type": "code",
   "execution_count": 25,
   "id": "a6ad16f7",
   "metadata": {},
   "outputs": [
    {
     "data": {
      "text/html": [
       "<div>\n",
       "<style scoped>\n",
       "    .dataframe tbody tr th:only-of-type {\n",
       "        vertical-align: middle;\n",
       "    }\n",
       "\n",
       "    .dataframe tbody tr th {\n",
       "        vertical-align: top;\n",
       "    }\n",
       "\n",
       "    .dataframe thead th {\n",
       "        text-align: right;\n",
       "    }\n",
       "</style>\n",
       "<table border=\"1\" class=\"dataframe\">\n",
       "  <thead>\n",
       "    <tr style=\"text-align: right;\">\n",
       "      <th></th>\n",
       "      <th>_id</th>\n",
       "      <th>BusinessName</th>\n",
       "      <th>RatingValue</th>\n",
       "      <th>scores</th>\n",
       "    </tr>\n",
       "  </thead>\n",
       "  <tbody>\n",
       "    <tr>\n",
       "      <th>0</th>\n",
       "      <td>652955673aa8cbf72c74f901</td>\n",
       "      <td>Volunteer</td>\n",
       "      <td>5</td>\n",
       "      <td>{'Hygiene': 0}</td>\n",
       "    </tr>\n",
       "    <tr>\n",
       "      <th>1</th>\n",
       "      <td>652955673aa8cbf72c74f911</td>\n",
       "      <td>Plumstead Manor Nursery</td>\n",
       "      <td>5</td>\n",
       "      <td>{'Hygiene': 0}</td>\n",
       "    </tr>\n",
       "    <tr>\n",
       "      <th>2</th>\n",
       "      <td>652955673aa8cbf72c74f913</td>\n",
       "      <td>Atlantic Fish Bar</td>\n",
       "      <td>5</td>\n",
       "      <td>{'Hygiene': 0}</td>\n",
       "    </tr>\n",
       "    <tr>\n",
       "      <th>3</th>\n",
       "      <td>652955673aa8cbf72c74f8cf</td>\n",
       "      <td>Iceland</td>\n",
       "      <td>5</td>\n",
       "      <td>{'Hygiene': 0}</td>\n",
       "    </tr>\n",
       "    <tr>\n",
       "      <th>4</th>\n",
       "      <td>652955673aa8cbf72c74f8de</td>\n",
       "      <td>Howe and Co Fish and Chips - Van 17</td>\n",
       "      <td>5</td>\n",
       "      <td>{'Hygiene': 0}</td>\n",
       "    </tr>\n",
       "  </tbody>\n",
       "</table>\n",
       "</div>"
      ],
      "text/plain": [
       "                        _id                         BusinessName  RatingValue  \\\n",
       "0  652955673aa8cbf72c74f901                            Volunteer            5   \n",
       "1  652955673aa8cbf72c74f911              Plumstead Manor Nursery            5   \n",
       "2  652955673aa8cbf72c74f913                    Atlantic Fish Bar            5   \n",
       "3  652955673aa8cbf72c74f8cf                              Iceland            5   \n",
       "4  652955673aa8cbf72c74f8de  Howe and Co Fish and Chips - Van 17            5   \n",
       "\n",
       "           scores  \n",
       "0  {'Hygiene': 0}  \n",
       "1  {'Hygiene': 0}  \n",
       "2  {'Hygiene': 0}  \n",
       "3  {'Hygiene': 0}  \n",
       "4  {'Hygiene': 0}  "
      ]
     },
     "execution_count": 25,
     "metadata": {},
     "output_type": "execute_result"
    }
   ],
   "source": [
    "# Convert result to Pandas DataFrame\n",
    "result_df = pd.DataFrame(results)\n",
    "result_df"
   ]
  },
  {
   "cell_type": "markdown",
   "id": "67281254",
   "metadata": {},
   "source": [
    "### 4. How many establishments in each Local Authority area have a hygiene score of 0?"
   ]
  },
  {
   "cell_type": "code",
   "execution_count": 28,
   "id": "4eeb227e",
   "metadata": {},
   "outputs": [
    {
     "name": "stdout",
     "output_type": "stream",
     "text": [
      "Number of documents found:  55\n",
      "[{'_id': 'North Norfolk', 'count': 1},\n",
      " {'_id': 'Broxbourne', 'count': 1},\n",
      " {'_id': 'Dorset', 'count': 1},\n",
      " {'_id': 'Sunderland', 'count': 1},\n",
      " {'_id': 'Reading', 'count': 1},\n",
      " {'_id': 'Kensington and Chelsea', 'count': 1},\n",
      " {'_id': 'Mid Sussex', 'count': 5},\n",
      " {'_id': 'North Hertfordshire', 'count': 6},\n",
      " {'_id': 'Tower Hamlets', 'count': 9},\n",
      " {'_id': 'Ipswich', 'count': 21}]\n"
     ]
    }
   ],
   "source": [
    "# Create a pipeline that: \n",
    "# 1. Matches establishments with a hygiene score of 0\n",
    "match_query = {'$match': {\"scores.Hygiene\": {'$eq': 0}}}\n",
    "\n",
    "# 2. Groups the matches by Local Authority\n",
    "group_query = {'$group': {'_id': \"$LocalAuthorityName\", \n",
    "                          'count': { '$sum': 1 }}}\n",
    "\n",
    "# 3. Sorts the matches from highest to lowest\n",
    "sort_values = {'$sort': { 'count': 1 }}\n",
    "\n",
    "pipeline = [match_query, group_query, sort_values]\n",
    "results = list(establishments.aggregate(pipeline))\n",
    "\n",
    "# Print the number of documents in the result\n",
    "print(\"Number of documents found: \", len(results))\n",
    "\n",
    "# Print the first 10 results\n",
    "pprint(results[0:10])"
   ]
  },
  {
   "cell_type": "code",
   "execution_count": 29,
   "id": "d8aab364",
   "metadata": {},
   "outputs": [
    {
     "name": "stdout",
     "output_type": "stream",
     "text": [
      "Rows in DataFrame:  55\n"
     ]
    },
    {
     "data": {
      "text/html": [
       "<div>\n",
       "<style scoped>\n",
       "    .dataframe tbody tr th:only-of-type {\n",
       "        vertical-align: middle;\n",
       "    }\n",
       "\n",
       "    .dataframe tbody tr th {\n",
       "        vertical-align: top;\n",
       "    }\n",
       "\n",
       "    .dataframe thead th {\n",
       "        text-align: right;\n",
       "    }\n",
       "</style>\n",
       "<table border=\"1\" class=\"dataframe\">\n",
       "  <thead>\n",
       "    <tr style=\"text-align: right;\">\n",
       "      <th></th>\n",
       "      <th>_id</th>\n",
       "      <th>count</th>\n",
       "    </tr>\n",
       "  </thead>\n",
       "  <tbody>\n",
       "    <tr>\n",
       "      <th>0</th>\n",
       "      <td>North Norfolk</td>\n",
       "      <td>1</td>\n",
       "    </tr>\n",
       "    <tr>\n",
       "      <th>1</th>\n",
       "      <td>Broxbourne</td>\n",
       "      <td>1</td>\n",
       "    </tr>\n",
       "    <tr>\n",
       "      <th>2</th>\n",
       "      <td>Dorset</td>\n",
       "      <td>1</td>\n",
       "    </tr>\n",
       "    <tr>\n",
       "      <th>3</th>\n",
       "      <td>Sunderland</td>\n",
       "      <td>1</td>\n",
       "    </tr>\n",
       "    <tr>\n",
       "      <th>4</th>\n",
       "      <td>Reading</td>\n",
       "      <td>1</td>\n",
       "    </tr>\n",
       "    <tr>\n",
       "      <th>5</th>\n",
       "      <td>Kensington and Chelsea</td>\n",
       "      <td>1</td>\n",
       "    </tr>\n",
       "    <tr>\n",
       "      <th>6</th>\n",
       "      <td>Mid Sussex</td>\n",
       "      <td>5</td>\n",
       "    </tr>\n",
       "    <tr>\n",
       "      <th>7</th>\n",
       "      <td>North Hertfordshire</td>\n",
       "      <td>6</td>\n",
       "    </tr>\n",
       "    <tr>\n",
       "      <th>8</th>\n",
       "      <td>Tower Hamlets</td>\n",
       "      <td>9</td>\n",
       "    </tr>\n",
       "    <tr>\n",
       "      <th>9</th>\n",
       "      <td>Ipswich</td>\n",
       "      <td>21</td>\n",
       "    </tr>\n",
       "  </tbody>\n",
       "</table>\n",
       "</div>"
      ],
      "text/plain": [
       "                      _id  count\n",
       "0           North Norfolk      1\n",
       "1              Broxbourne      1\n",
       "2                  Dorset      1\n",
       "3              Sunderland      1\n",
       "4                 Reading      1\n",
       "5  Kensington and Chelsea      1\n",
       "6              Mid Sussex      5\n",
       "7     North Hertfordshire      6\n",
       "8           Tower Hamlets      9\n",
       "9                 Ipswich     21"
      ]
     },
     "execution_count": 29,
     "metadata": {},
     "output_type": "execute_result"
    }
   ],
   "source": [
    "# Convert the result to a Pandas DataFrame\n",
    "results_df = pd.DataFrame(results)\n",
    "\n",
    "# Display the number of rows in the DataFrame\n",
    "print(\"Rows in DataFrame: \", len(results_df))\n",
    "\n",
    "# Display the first 10 rows of the DataFrame\n",
    "results_df.head(10)"
   ]
  },
  {
   "cell_type": "code",
   "execution_count": null,
   "id": "c9da1b87-b918-4d90-ae89-d4506ca5df87",
   "metadata": {},
   "outputs": [],
   "source": []
  }
 ],
 "metadata": {
  "kernelspec": {
   "display_name": "“PythonData”",
   "language": "python",
   "name": "pythondata"
  },
  "language_info": {
   "codemirror_mode": {
    "name": "ipython",
    "version": 3
   },
   "file_extension": ".py",
   "mimetype": "text/x-python",
   "name": "python",
   "nbconvert_exporter": "python",
   "pygments_lexer": "ipython3",
   "version": "3.11.4"
  }
 },
 "nbformat": 4,
 "nbformat_minor": 5
}
